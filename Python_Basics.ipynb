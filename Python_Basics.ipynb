{
  "nbformat": 4,
  "nbformat_minor": 0,
  "metadata": {
    "colab": {
      "provenance": []
    },
    "kernelspec": {
      "name": "python3",
      "display_name": "Python 3"
    },
    "language_info": {
      "name": "python"
    }
  },
  "cells": [
    {
      "cell_type": "markdown",
      "source": [
        "#Python Basics"
      ],
      "metadata": {
        "id": "LfzT8kktrt6z"
      }
    },
    {
      "cell_type": "markdown",
      "source": [
        "1. What is Python and why it is popular?\n",
        "\n",
        "  -> Python is a programming language and it is popular due to\n",
        "      a) Ease of learning\n",
        "      b) It's versatility\n",
        "      c) Easy to interpret\n",
        "      d) Extensive libraries\n",
        "      e) Active community\n",
        "\n",
        "2. What is an interpreter in Python?\n",
        "\n",
        "  -> Interpreter in python is a program that executes a code line by line instead of executing all the code at once ( as compiler does compiler )\n",
        "\n",
        "3. What are pre-defined keywords in Python?\n",
        "\n",
        "  -> Pre-defined keywords are reserved words in python that have a special meaning and purpose. Ex: if,else,elif etc.\n",
        "\n",
        "4. Can keywords be used as variable names?\n",
        "  \n",
        "  -> No keywords cannot be used as variable names\n",
        "\n",
        "5.  What is mutability in Python?\n",
        "\n",
        "  -> Mutability is the ability of the object to be changed after it has been created. Ex: List\n",
        "\n",
        "6. Why are lists mutable, but tuples are immutable?\n",
        "\n",
        "  -> Lists are mutable because they are designed for dynamic uses ie) Adding, Updating or Deleting the elements. Tuples are immutable to insure data integrity while working with fixed objects.\n",
        "\n",
        "7. What is the difference between “==” and “is” operators in Python?\n",
        "\n",
        "  -> \"==\" checks if both the values of the objects are same. Ex. a = [1,2,3] b = [1,2,3] so if we do print(a==b) it will return true as both the values are same.\n",
        "  -> \"is\" checks if both objects refer to same memory location. Ex. a = [1,2,3] b = [1,2,3] c = a . If we do print(a is b) we will get False as both are different objects in memory but if we do print (a is c) we will get True as both are refering to same object in memory.\n",
        "\n",
        "8. What are logical operators in Python?\n",
        "\n",
        "  -> Logical operators (and,or,not) are used to combine conditional statement and return boolean value ( True or False )\n",
        "  Ex: a = 10 b = 20 print ( a < b and b > a ). This will give True as both the conditions are satisfied\n",
        "\n",
        "9. What is type casting in Python?\n",
        "\n",
        "  -> Type Casting is the process of converting one data type to another data type by using fucntions like int(), str() , float() etc.\n",
        "\n",
        "10. What is the difference between implicit and explicit type casting?\n",
        "\n",
        "  -> Implicit type casting is when python automatically converts one data type to another whenever it is required. Ex. a=10(integer) b=2.0(float) print (a+b) which will give 12.0(float).\n",
        "\n",
        "  -> Explicit type casting is when the programmer converts one data type to another by himself. Ex a=2.3 b=int(a) print(b) will give 2(integer) as we have converted the float to integer\n",
        "\n",
        "11. What is the purpose of conditional statements in Python?\n",
        "\n",
        "  -> Conditional statements in python are used to execute different set of codes depending on the conditions satisfied.\n",
        "\n",
        "12. How does the elif statement work?\n",
        "\n",
        "  -> Elif statement works such that it check multiple conditions in a sequence. If the first condition (if) fails it checks the next condtion (elif). If the elif condition fails it checks the next condition elif or else untill the condition is satisfied . If condition is not satisfied then it returns the value of (else).\n",
        "  Ex. x = 10\n",
        "      if (x<5):\n",
        "        print(\"x is less than 5\")\n",
        "      elif ( x == 10 ):\n",
        "        print(\"x is equal to 10)\n",
        "      else:\n",
        "        print(\"x is greater than 10\")\n",
        "\n",
        "  -> Here x is equal to 10 will be given as output.\n",
        "\n",
        "13. What is the difference between for and while loops?\n",
        "\n",
        "  -> For loop is used when the number of iterations is known. It also iterates through the items in a sequence\n",
        "  -> While loop is preferred when the number of iterations are unknown. It continues untill the condition becomes False.\n",
        "\n",
        "14. Describe a scenario where a while loop is more suitable than a for loop.\n",
        "\n",
        "  -> When we want to guess a password.\n",
        "  password = \"\"\n",
        "  while (password!= \"pywalla\"):\n",
        "    input(\"Enter password:\")\n",
        "  print(\"Correct password\")\n",
        "\n",
        "  Here we don't know how many iterations will the user take to guess the password. So using a while loop will run untill the condition is satisfied.\n",
        "\n",
        "\n",
        "\n"
      ],
      "metadata": {
        "id": "HqIjW47vr229"
      }
    },
    {
      "cell_type": "markdown",
      "source": [
        "# Practical Questions"
      ],
      "metadata": {
        "id": "NCloWoDg-qiZ"
      }
    },
    {
      "cell_type": "markdown",
      "source": [
        "1. Write a Python program to print \"Hello, World!\""
      ],
      "metadata": {
        "id": "8FBnmhVB-tOF"
      }
    },
    {
      "cell_type": "code",
      "source": [
        "print(\"Hello, World!\")"
      ],
      "metadata": {
        "colab": {
          "base_uri": "https://localhost:8080/"
        },
        "id": "j3jTk0m2-yBH",
        "outputId": "00e9e180-12a1-4997-8fc8-94df61021a69"
      },
      "execution_count": null,
      "outputs": [
        {
          "output_type": "stream",
          "name": "stdout",
          "text": [
            "Hello, World!\n"
          ]
        }
      ]
    },
    {
      "cell_type": "markdown",
      "source": [
        "2. Write a Python program that displays your name and age0"
      ],
      "metadata": {
        "id": "ohA-3SRQ_BCo"
      }
    },
    {
      "cell_type": "code",
      "source": [
        "print(\"Sai\")\n",
        "print(\"21 years old\")"
      ],
      "metadata": {
        "colab": {
          "base_uri": "https://localhost:8080/"
        },
        "id": "qXhZDpFs_E5b",
        "outputId": "91713971-315b-4c9b-f66e-4889ceb24707"
      },
      "execution_count": null,
      "outputs": [
        {
          "output_type": "stream",
          "name": "stdout",
          "text": [
            "Sai\n",
            "21 years old\n"
          ]
        }
      ]
    },
    {
      "cell_type": "markdown",
      "source": [
        "3. Write code to print all the pre-defined keywords in Python using the keyword library"
      ],
      "metadata": {
        "id": "PR21EDyk_Kv_"
      }
    },
    {
      "cell_type": "code",
      "source": [
        "import keyword\n",
        "\n",
        "for i in keyword.kwlist:\n",
        "  print(i)"
      ],
      "metadata": {
        "colab": {
          "base_uri": "https://localhost:8080/"
        },
        "id": "mBscutOB_Ppi",
        "outputId": "2678eb8c-1301-4ac1-b7df-b71e4adbd5fe"
      },
      "execution_count": null,
      "outputs": [
        {
          "output_type": "stream",
          "name": "stdout",
          "text": [
            "False\n",
            "None\n",
            "True\n",
            "and\n",
            "as\n",
            "assert\n",
            "async\n",
            "await\n",
            "break\n",
            "class\n",
            "continue\n",
            "def\n",
            "del\n",
            "elif\n",
            "else\n",
            "except\n",
            "finally\n",
            "for\n",
            "from\n",
            "global\n",
            "if\n",
            "import\n",
            "in\n",
            "is\n",
            "lambda\n",
            "nonlocal\n",
            "not\n",
            "or\n",
            "pass\n",
            "raise\n",
            "return\n",
            "try\n",
            "while\n",
            "with\n",
            "yield\n"
          ]
        }
      ]
    },
    {
      "cell_type": "markdown",
      "source": [
        " 4. Write a program that checks if a given word is a Python keyword"
      ],
      "metadata": {
        "id": "1nEHzOPt_pQ8"
      }
    },
    {
      "cell_type": "code",
      "source": [
        "import keyword\n",
        "\n",
        "word = input(\"Enter word: \")\n",
        "\n",
        "if (word not in keyword.kwlist):\n",
        "  print(word,\"is not a keyword\")\n",
        "else:\n",
        "  print(word,\"is a keyword\")"
      ],
      "metadata": {
        "colab": {
          "base_uri": "https://localhost:8080/"
        },
        "id": "OWChzz6i_1bC",
        "outputId": "b24b57ac-4087-4a48-e950-98dfccb5162b"
      },
      "execution_count": null,
      "outputs": [
        {
          "output_type": "stream",
          "name": "stdout",
          "text": [
            "Enter word: None\n",
            "None is a keyword\n"
          ]
        }
      ]
    },
    {
      "cell_type": "markdown",
      "source": [
        "5. Create a list and tuple in Python, and demonstrate how attempting to change an element works differently\n"
      ],
      "metadata": {
        "id": "kJznqofEA-MF"
      }
    },
    {
      "cell_type": "code",
      "source": [
        "list_1 = [1,2,3,4]\n",
        "tuple_1 = (1,2,3)\n",
        "\n",
        "list_1[1] = 42 ## able to change the 2nd element to 42\n",
        "print(list_1)\n",
        "\n",
        "tuple_1[1] = 32 ## getting error 'tuple' object does not support item assignment\n",
        "print(tuple_1)"
      ],
      "metadata": {
        "colab": {
          "base_uri": "https://localhost:8080/",
          "height": 216
        },
        "id": "5HK9GXHOHP08",
        "outputId": "a9b0cab8-8d53-41e0-a772-f82c81da4376"
      },
      "execution_count": null,
      "outputs": [
        {
          "output_type": "stream",
          "name": "stdout",
          "text": [
            "[1, 42, 3, 4]\n"
          ]
        },
        {
          "output_type": "error",
          "ename": "TypeError",
          "evalue": "'tuple' object does not support item assignment",
          "traceback": [
            "\u001b[0;31m---------------------------------------------------------------------------\u001b[0m",
            "\u001b[0;31mTypeError\u001b[0m                                 Traceback (most recent call last)",
            "\u001b[0;32m<ipython-input-11-0eca746051cb>\u001b[0m in \u001b[0;36m<cell line: 7>\u001b[0;34m()\u001b[0m\n\u001b[1;32m      5\u001b[0m \u001b[0mprint\u001b[0m\u001b[0;34m(\u001b[0m\u001b[0mlist_1\u001b[0m\u001b[0;34m)\u001b[0m\u001b[0;34m\u001b[0m\u001b[0;34m\u001b[0m\u001b[0m\n\u001b[1;32m      6\u001b[0m \u001b[0;34m\u001b[0m\u001b[0m\n\u001b[0;32m----> 7\u001b[0;31m \u001b[0mtuple_1\u001b[0m\u001b[0;34m[\u001b[0m\u001b[0;36m1\u001b[0m\u001b[0;34m]\u001b[0m \u001b[0;34m=\u001b[0m \u001b[0;36m32\u001b[0m\u001b[0;34m\u001b[0m\u001b[0;34m\u001b[0m\u001b[0m\n\u001b[0m\u001b[1;32m      8\u001b[0m \u001b[0mprint\u001b[0m\u001b[0;34m(\u001b[0m\u001b[0mtuple_1\u001b[0m\u001b[0;34m)\u001b[0m\u001b[0;34m\u001b[0m\u001b[0;34m\u001b[0m\u001b[0m\n",
            "\u001b[0;31mTypeError\u001b[0m: 'tuple' object does not support item assignment"
          ]
        }
      ]
    },
    {
      "cell_type": "markdown",
      "source": [
        "6. Write a function to demonstrate the behavior of mutable and immutable arguments"
      ],
      "metadata": {
        "id": "2idFLMC-Hz6b"
      }
    },
    {
      "cell_type": "code",
      "source": [
        "def modify_args(mutable, immutable):\n",
        "    # Modifying the mutable argument (list)\n",
        "    mutable.append(4)\n",
        "\n",
        "    # Modifying the immutable argument (integer)\n",
        "    immutable += 5\n",
        "\n",
        "# Initial values\n",
        "list_1 = [1, 2, 3]  # Mutable (list)\n",
        "num = 10       # Immutable (integer)\n",
        "\n",
        "# Before calling the function\n",
        "print(\"Before function\")\n",
        "print(\"Mutable:\", list_1)\n",
        "print(\"Immutable:\", num)\n",
        "\n",
        "# Function call\n",
        "modify_args(list_1, num)\n",
        "\n",
        "# After calling the function\n",
        "print(\"After function\")\n",
        "print(\"Mutable:\", list_1)\n",
        "print(\"Immutable:\", num)\n"
      ],
      "metadata": {
        "colab": {
          "base_uri": "https://localhost:8080/"
        },
        "id": "9Z30pw2WIIGP",
        "outputId": "2e591b7d-3773-4630-c30d-4341e5372d02"
      },
      "execution_count": null,
      "outputs": [
        {
          "output_type": "stream",
          "name": "stdout",
          "text": [
            "Before function\n",
            "Mutable: [1, 2, 3]\n",
            "Immutable: 10\n",
            "After function\n",
            "Mutable: [1, 2, 3, 4]\n",
            "Immutable: 10\n"
          ]
        }
      ]
    },
    {
      "cell_type": "markdown",
      "source": [
        "7. Write a function to demonstrate the behavior of mutable and immutable arguments"
      ],
      "metadata": {
        "id": "nEjssc3LKbhP"
      }
    },
    {
      "cell_type": "code",
      "source": [
        "def modify_args(mutable, immutable):\n",
        "    # Modifying the mutable argument (list)\n",
        "    mutable.append(4)\n",
        "\n",
        "    # Modifying the immutable argument (integer)\n",
        "    immutable += 5\n",
        "\n",
        "# Initial values\n",
        "list_1 = [1, 2, 3]  # Mutable (list)\n",
        "num = 10       # Immutable (integer)\n",
        "\n",
        "# Before calling the function\n",
        "print(\"Before function\")\n",
        "print(\"Mutable:\", list_1)\n",
        "print(\"Immutable:\", num)\n",
        "\n",
        "# Function call\n",
        "modify_args(list_1, num)\n",
        "\n",
        "# After calling the function\n",
        "print(\"After function\")\n",
        "print(\"Mutable:\", list_1)\n",
        "print(\"Immutable:\", num)\n"
      ],
      "metadata": {
        "colab": {
          "base_uri": "https://localhost:8080/"
        },
        "id": "NaOaiq6_KfCP",
        "outputId": "8913aa1d-df07-4a74-98ef-09189ff745c3"
      },
      "execution_count": null,
      "outputs": [
        {
          "output_type": "stream",
          "name": "stdout",
          "text": [
            "Before function\n",
            "Mutable: [1, 2, 3]\n",
            "Immutable: 10\n",
            "After function\n",
            "Mutable: [1, 2, 3, 4]\n",
            "Immutable: 10\n"
          ]
        }
      ]
    },
    {
      "cell_type": "markdown",
      "source": [
        "8. Write a program to demonstrate the use of logical operators"
      ],
      "metadata": {
        "id": "K0OmLQpfKiaa"
      }
    },
    {
      "cell_type": "code",
      "source": [
        "x = 10\n",
        "y = 20\n",
        "z = 30\n",
        "\n",
        "if x < y and y < z:\n",
        "    print(\"Both conditions are True\")\n",
        "\n",
        "if x > y or y < z:\n",
        "    print(\"At least one condition is True\")\n",
        "\n",
        "if not(x > z): # as x=10 is smaller than z=30 we use not to make it false thus making the condition true\n",
        "    print(\"Condition x > z is False \")\n"
      ],
      "metadata": {
        "colab": {
          "base_uri": "https://localhost:8080/"
        },
        "id": "JxhEuNgZKnwG",
        "outputId": "d5690f58-c0a3-4d24-c6a4-211c62c5e00a"
      },
      "execution_count": null,
      "outputs": [
        {
          "output_type": "stream",
          "name": "stdout",
          "text": [
            "Both conditions are True\n",
            "At least one condition is True\n",
            "Condition x > z is False \n"
          ]
        }
      ]
    },
    {
      "cell_type": "markdown",
      "source": [
        "9.  Write a Python program to convert user input from string to integer, float, and boolean types."
      ],
      "metadata": {
        "id": "ir5uA2roLjza"
      }
    },
    {
      "cell_type": "code",
      "source": [
        "input = \"234\"\n",
        "\n",
        "print(int(input))\n",
        "print(float(input))\n"
      ],
      "metadata": {
        "colab": {
          "base_uri": "https://localhost:8080/"
        },
        "id": "8VjbgmAoLzoy",
        "outputId": "b3a2a33c-cbf9-457b-9591-d628018c7aaf"
      },
      "execution_count": null,
      "outputs": [
        {
          "output_type": "stream",
          "name": "stdout",
          "text": [
            "234\n",
            "234.0\n"
          ]
        }
      ]
    },
    {
      "cell_type": "markdown",
      "source": [
        " 10. Write code to demonstrate type casting with list elements."
      ],
      "metadata": {
        "id": "G8EjJvYSRiTO"
      }
    },
    {
      "cell_type": "code",
      "source": [
        "list_1 = ['12','2.5','true']\n",
        "\n",
        "print(\"Before type casting: \", list_1)\n",
        "\n",
        "list_1[0] = int(list_1[0])\n",
        "list_1[1] = float(list_1[1])\n",
        "list_1[2] = bool(list_1[2])\n",
        "\n",
        "print(\"After type casting: \", list_1)"
      ],
      "metadata": {
        "colab": {
          "base_uri": "https://localhost:8080/"
        },
        "id": "1lo1hF3MRmEC",
        "outputId": "097a10ef-5c0b-4436-9ea8-43399c496679"
      },
      "execution_count": null,
      "outputs": [
        {
          "output_type": "stream",
          "name": "stdout",
          "text": [
            "Before type casting:  ['12', '2.5', 'true']\n",
            "After type casting:  [12, 2.5, True]\n"
          ]
        }
      ]
    },
    {
      "cell_type": "markdown",
      "source": [
        "11. Write a program that checks if a number is positive, negative, or zero."
      ],
      "metadata": {
        "id": "cjcbIDlVSmgq"
      }
    },
    {
      "cell_type": "code",
      "source": [
        "num = int(input(\"Enter number: \"))\n",
        "\n",
        "if num > 0:\n",
        "    print(num, \"is positive\")\n",
        "elif num < 0:\n",
        "    print(num, \"is negative\")\n",
        "else:\n",
        "    print(\"Zero\")\n"
      ],
      "metadata": {
        "colab": {
          "base_uri": "https://localhost:8080/"
        },
        "id": "BjOjiMefSra3",
        "outputId": "68d989c5-e9bf-4b8a-f144-c364a776314d"
      },
      "execution_count": 2,
      "outputs": [
        {
          "output_type": "stream",
          "name": "stdout",
          "text": [
            "Enter number: 0\n",
            "Zero\n"
          ]
        }
      ]
    },
    {
      "cell_type": "markdown",
      "source": [
        "12. Write a for loop to print numbers from 1 to 10."
      ],
      "metadata": {
        "id": "UlFvwzqFVebL"
      }
    },
    {
      "cell_type": "code",
      "source": [
        "for i in range(1,11):\n",
        "  print(i)"
      ],
      "metadata": {
        "colab": {
          "base_uri": "https://localhost:8080/"
        },
        "id": "ltkdEHk1VeHo",
        "outputId": "5225cd89-ab02-4d57-f30d-efa9796ea07c"
      },
      "execution_count": 3,
      "outputs": [
        {
          "output_type": "stream",
          "name": "stdout",
          "text": [
            "1\n",
            "2\n",
            "3\n",
            "4\n",
            "5\n",
            "6\n",
            "7\n",
            "8\n",
            "9\n",
            "10\n"
          ]
        }
      ]
    },
    {
      "cell_type": "markdown",
      "source": [
        "13. Write a Python program to find the sum of all even numbers between 1 and 50."
      ],
      "metadata": {
        "id": "_JZVkPdJVqPZ"
      }
    },
    {
      "cell_type": "code",
      "source": [
        "sum_of_even = 0\n",
        "\n",
        "for i in range(1,51):\n",
        "  if i%2 == 0:\n",
        "    sum_of_even += i\n",
        "\n",
        "print(sum_of_even)"
      ],
      "metadata": {
        "colab": {
          "base_uri": "https://localhost:8080/"
        },
        "id": "hJowHUFTVoQ4",
        "outputId": "e17e6cdb-90c7-4de2-9d3d-b9e893ecfda9"
      },
      "execution_count": 4,
      "outputs": [
        {
          "output_type": "stream",
          "name": "stdout",
          "text": [
            "650\n"
          ]
        }
      ]
    },
    {
      "cell_type": "markdown",
      "source": [
        "14. Write a program to reverse a string using a while loop."
      ],
      "metadata": {
        "id": "UEyzGP1yWL4l"
      }
    },
    {
      "cell_type": "code",
      "source": [
        "string_normal = input(\"Enter string: \")\n",
        "string_rev = \"\"\n",
        "\n",
        "index = 0\n",
        "\n",
        "while index < len(string_normal):\n",
        "  string_rev = string_normal[index] + string_rev\n",
        "  index += 1\n",
        "\n",
        "print(string_rev)\n",
        "\n"
      ],
      "metadata": {
        "colab": {
          "base_uri": "https://localhost:8080/"
        },
        "id": "av9TDhALWQIs",
        "outputId": "74e17b67-115b-4e48-d82a-ab6c76c4639c"
      },
      "execution_count": 7,
      "outputs": [
        {
          "output_type": "stream",
          "name": "stdout",
          "text": [
            "Enter string: cloud\n",
            "duolc\n"
          ]
        }
      ]
    },
    {
      "cell_type": "markdown",
      "source": [
        "15. Write a Python program to calculate the factorial of a number provided by the user using a while loop."
      ],
      "metadata": {
        "id": "QoMCFZCfXsCo"
      }
    },
    {
      "cell_type": "code",
      "source": [
        "number_1 = int(input(\"Enter a number: \"))\n",
        "factorial = 1\n",
        "\n",
        "while number_1 > 0:\n",
        "    factorial *= number_1\n",
        "    number_1 -= 1\n",
        "\n",
        "print(\"Factorial:\", factorial)\n"
      ],
      "metadata": {
        "colab": {
          "base_uri": "https://localhost:8080/"
        },
        "id": "HnY3TSrDXv-4",
        "outputId": "f8a87573-abe0-4757-8b86-0164571937c3"
      },
      "execution_count": 8,
      "outputs": [
        {
          "output_type": "stream",
          "name": "stdout",
          "text": [
            "Enter a number: 5\n",
            "Factorial: 120\n"
          ]
        }
      ]
    }
  ]
}